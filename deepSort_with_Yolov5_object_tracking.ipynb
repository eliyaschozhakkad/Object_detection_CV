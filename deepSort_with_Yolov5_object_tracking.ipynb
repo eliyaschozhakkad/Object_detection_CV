{
  "nbformat": 4,
  "nbformat_minor": 0,
  "metadata": {
    "colab": {
      "provenance": [],
      "gpuType": "T4"
    },
    "kernelspec": {
      "name": "python3",
      "display_name": "Python 3"
    },
    "language_info": {
      "name": "python"
    },
    "accelerator": "GPU"
  },
  "cells": [
    {
      "cell_type": "code",
      "source": [
        "from google.colab import drive\n",
        "drive.mount('/content/drive')"
      ],
      "metadata": {
        "colab": {
          "base_uri": "https://localhost:8080/"
        },
        "id": "s2HnMlVNPOA6",
        "outputId": "270d580a-7aa0-47c1-d146-d20d69edef06"
      },
      "execution_count": 1,
      "outputs": [
        {
          "output_type": "stream",
          "name": "stdout",
          "text": [
            "Mounted at /content/drive\n"
          ]
        }
      ]
    },
    {
      "cell_type": "code",
      "source": [
        "%cd /content/drive/MyDrive/Colab Notebooks/deep_sort"
      ],
      "metadata": {
        "colab": {
          "base_uri": "https://localhost:8080/"
        },
        "id": "jpZLwgtfPjqf",
        "outputId": "e9061f63-b149-44f2-db2b-ed52bffbcb2d"
      },
      "execution_count": 3,
      "outputs": [
        {
          "output_type": "stream",
          "name": "stdout",
          "text": [
            "/content/drive/MyDrive/Colab Notebooks/deep_sort\n"
          ]
        }
      ]
    },
    {
      "cell_type": "code",
      "source": [
        "!pwd"
      ],
      "metadata": {
        "colab": {
          "base_uri": "https://localhost:8080/"
        },
        "id": "79khEYyweaGS",
        "outputId": "9fbfa774-03cd-486f-cb6e-b06a79fd6c4e"
      },
      "execution_count": 23,
      "outputs": [
        {
          "output_type": "stream",
          "name": "stdout",
          "text": [
            "/content/drive/MyDrive/Colab Notebooks/deep_sort/deep_sort_pytorch/deep_sort/deep\n"
          ]
        }
      ]
    },
    {
      "cell_type": "code",
      "execution_count": 5,
      "metadata": {
        "colab": {
          "base_uri": "https://localhost:8080/"
        },
        "id": "3UJhVsZf5cod",
        "outputId": "3cb893a1-e815-41a0-991a-3449de83cc27"
      },
      "outputs": [
        {
          "output_type": "stream",
          "name": "stdout",
          "text": [
            "Cloning into 'deep_sort_pytorch'...\n",
            "remote: Enumerating objects: 732, done.\u001b[K\n",
            "remote: Counting objects: 100% (15/15), done.\u001b[K\n",
            "remote: Compressing objects: 100% (15/15), done.\u001b[K\n",
            "remote: Total 732 (delta 8), reused 5 (delta 0), pack-reused 717\u001b[K\n",
            "Receiving objects: 100% (732/732), 23.72 MiB | 1.45 MiB/s, done.\n",
            "Resolving deltas: 100% (355/355), done.\n"
          ]
        }
      ],
      "source": [
        "!git clone https://github.com/ZQPei/deep_sort_pytorch.git"
      ]
    },
    {
      "cell_type": "code",
      "source": [
        "%cd deep_sort_pytorch/"
      ],
      "metadata": {
        "colab": {
          "base_uri": "https://localhost:8080/"
        },
        "id": "UVqVjIDP5ur8",
        "outputId": "64c8522e-8c3b-4d62-dc64-2824666b124e"
      },
      "execution_count": 6,
      "outputs": [
        {
          "output_type": "stream",
          "name": "stdout",
          "text": [
            "/content/drive/MyDrive/Colab Notebooks/deep_sort/deep_sort_pytorch\n"
          ]
        }
      ]
    },
    {
      "cell_type": "code",
      "source": [
        "!pip install -r requirements.txt"
      ],
      "metadata": {
        "colab": {
          "base_uri": "https://localhost:8080/"
        },
        "id": "eLLcjGyw59Oa",
        "outputId": "e910e94b-603d-4661-9e18-a326b5d0f8f5"
      },
      "execution_count": 7,
      "outputs": [
        {
          "output_type": "stream",
          "name": "stdout",
          "text": [
            "Collecting atomicwrites==1.3.0 (from -r requirements.txt (line 1))\n",
            "  Downloading atomicwrites-1.3.0-py2.py3-none-any.whl (5.9 kB)\n",
            "Collecting attrs==19.3.0 (from -r requirements.txt (line 2))\n",
            "  Downloading attrs-19.3.0-py2.py3-none-any.whl (39 kB)\n",
            "Collecting colorama==0.4.3 (from -r requirements.txt (line 3))\n",
            "  Downloading colorama-0.4.3-py2.py3-none-any.whl (15 kB)\n",
            "Collecting easydict==1.9 (from -r requirements.txt (line 4))\n",
            "  Downloading easydict-1.9.tar.gz (6.4 kB)\n",
            "  Preparing metadata (setup.py) ... \u001b[?25l\u001b[?25hdone\n",
            "Collecting entrypoints==0.3 (from -r requirements.txt (line 5))\n",
            "  Downloading entrypoints-0.3-py2.py3-none-any.whl (11 kB)\n",
            "Collecting et-xmlfile==1.0.1 (from -r requirements.txt (line 6))\n",
            "  Downloading et_xmlfile-1.0.1.tar.gz (8.4 kB)\n",
            "  Preparing metadata (setup.py) ... \u001b[?25l\u001b[?25hdone\n",
            "Collecting flake8==3.7.9 (from -r requirements.txt (line 7))\n",
            "  Downloading flake8-3.7.9-py2.py3-none-any.whl (69 kB)\n",
            "\u001b[2K     \u001b[90m━━━━━━━━━━━━━━━━━━━━━━━━━━━━━━━━━━━━━━━━\u001b[0m \u001b[32m69.9/69.9 kB\u001b[0m \u001b[31m6.8 MB/s\u001b[0m eta \u001b[36m0:00:00\u001b[0m\n",
            "\u001b[?25hCollecting flake8-import-order==0.18.1 (from -r requirements.txt (line 8))\n",
            "  Downloading flake8_import_order-0.18.1-py2.py3-none-any.whl (15 kB)\n",
            "Collecting importlib-metadata==1.6.0 (from -r requirements.txt (line 9))\n",
            "  Downloading importlib_metadata-1.6.0-py2.py3-none-any.whl (30 kB)\n",
            "Collecting jdcal==1.4.1 (from -r requirements.txt (line 10))\n",
            "  Downloading jdcal-1.4.1-py2.py3-none-any.whl (9.5 kB)\n",
            "Collecting joblib==0.14.1 (from -r requirements.txt (line 11))\n",
            "  Downloading joblib-0.14.1-py2.py3-none-any.whl (294 kB)\n",
            "\u001b[2K     \u001b[90m━━━━━━━━━━━━━━━━━━━━━━━━━━━━━━━━━━━━━━━━\u001b[0m \u001b[32m294.9/294.9 kB\u001b[0m \u001b[31m11.2 MB/s\u001b[0m eta \u001b[36m0:00:00\u001b[0m\n",
            "\u001b[?25hCollecting numpy==1.18.2 (from -r requirements.txt (line 12))\n",
            "  Downloading numpy-1.18.2.zip (5.4 MB)\n",
            "\u001b[2K     \u001b[90m━━━━━━━━━━━━━━━━━━━━━━━━━━━━━━━━━━━━━━━━\u001b[0m \u001b[32m5.4/5.4 MB\u001b[0m \u001b[31m31.5 MB/s\u001b[0m eta \u001b[36m0:00:00\u001b[0m\n",
            "\u001b[?25h  Installing build dependencies ... \u001b[?25l\u001b[?25hdone\n",
            "  Getting requirements to build wheel ... \u001b[?25l\u001b[?25hdone\n",
            "  \u001b[1;31merror\u001b[0m: \u001b[1msubprocess-exited-with-error\u001b[0m\n",
            "  \n",
            "  \u001b[31m×\u001b[0m \u001b[32mPreparing metadata \u001b[0m\u001b[1;32m(\u001b[0m\u001b[32mpyproject.toml\u001b[0m\u001b[1;32m)\u001b[0m did not run successfully.\n",
            "  \u001b[31m│\u001b[0m exit code: \u001b[1;36m1\u001b[0m\n",
            "  \u001b[31m╰─>\u001b[0m See above for output.\n",
            "  \n",
            "  \u001b[1;35mnote\u001b[0m: This error originates from a subprocess, and is likely not a problem with pip.\n",
            "  Preparing metadata (pyproject.toml) ... \u001b[?25l\u001b[?25herror\n",
            "\u001b[1;31merror\u001b[0m: \u001b[1mmetadata-generation-failed\u001b[0m\n",
            "\n",
            "\u001b[31m×\u001b[0m Encountered error while generating package metadata.\n",
            "\u001b[31m╰─>\u001b[0m See above for output.\n",
            "\n",
            "\u001b[1;35mnote\u001b[0m: This is an issue with the package mentioned above, not pip.\n",
            "\u001b[1;36mhint\u001b[0m: See above for details.\n"
          ]
        }
      ]
    },
    {
      "cell_type": "code",
      "source": [
        "pwd"
      ],
      "metadata": {
        "colab": {
          "base_uri": "https://localhost:8080/",
          "height": 35
        },
        "id": "a_ylXzDK8IWJ",
        "outputId": "14da195a-914b-42d9-ef90-fdb1cdf07279"
      },
      "execution_count": 17,
      "outputs": [
        {
          "output_type": "execute_result",
          "data": {
            "text/plain": [
              "'/content/drive/MyDrive/Colab Notebooks/deep_sort/deep_sort_pytorch/deep_sort/deep'"
            ],
            "application/vnd.google.colaboratory.intrinsic+json": {
              "type": "string"
            }
          },
          "metadata": {},
          "execution_count": 17
        }
      ]
    },
    {
      "cell_type": "code",
      "source": [
        "%cd /content/drive/MyDrive/Colab Notebooks/deep_sort/deep_sort_pytorch/deep_sort/deep"
      ],
      "metadata": {
        "colab": {
          "base_uri": "https://localhost:8080/"
        },
        "id": "B3WFOYFU97rO",
        "outputId": "bc198af1-af00-4ca4-c20f-5cf3727fbe93"
      },
      "execution_count": 18,
      "outputs": [
        {
          "output_type": "stream",
          "name": "stdout",
          "text": [
            "/content/drive/MyDrive/Colab Notebooks/deep_sort/deep_sort_pytorch/deep_sort/deep\n"
          ]
        }
      ]
    },
    {
      "cell_type": "code",
      "source": [
        "ls"
      ],
      "metadata": {
        "colab": {
          "base_uri": "https://localhost:8080/"
        },
        "id": "ttFAnjCiSVpK",
        "outputId": "5696040d-52bc-4b47-e0e7-fccf95c659eb"
      },
      "execution_count": 21,
      "outputs": [
        {
          "output_type": "stream",
          "name": "stdout",
          "text": [
            "\u001b[0m\u001b[01;34mcheckpoint\u001b[0m/  feature_extractor.py  model.py           test.py    train.py\n",
            "evaluate.py  __init__.py           original_model.py  train.jpg\n"
          ]
        }
      ]
    },
    {
      "cell_type": "code",
      "source": [
        "%cp -r /content/drive/MyDrive/Colab\\ Notebooks/deep_sort/data /content/drive/MyDrive/Colab\\ Notebooks/deep_sort/deep_sort_pytorch/deep_sort/deep/\n"
      ],
      "metadata": {
        "id": "Mu27M8DeYvNn"
      },
      "execution_count": 34,
      "outputs": []
    },
    {
      "cell_type": "code",
      "source": [
        "!python train.py"
      ],
      "metadata": {
        "colab": {
          "base_uri": "https://localhost:8080/"
        },
        "id": "BsRUQMOW-5II",
        "outputId": "2b3a2eff-9f3c-4345-fb28-93863957e2da"
      },
      "execution_count": 35,
      "outputs": [
        {
          "output_type": "stream",
          "name": "stdout",
          "text": [
            "\n",
            "Epoch : 1\n",
            "Testing ...\n",
            "[progress:100.0%]time:0.21s Loss:0.00000 Correct:22/22 Acc:100.000%\n",
            "Saving parameters to checkpoint/ckpt.t7\n",
            "\n",
            "Epoch : 2\n",
            "Testing ...\n",
            "[progress:100.0%]time:0.05s Loss:0.00000 Correct:22/22 Acc:100.000%\n",
            "\n",
            "Epoch : 3\n",
            "Testing ...\n",
            "[progress:100.0%]time:0.05s Loss:0.00000 Correct:22/22 Acc:100.000%\n",
            "\n",
            "Epoch : 4\n",
            "Testing ...\n",
            "[progress:100.0%]time:0.05s Loss:0.00000 Correct:22/22 Acc:100.000%\n",
            "\n",
            "Epoch : 5\n",
            "Testing ...\n",
            "[progress:100.0%]time:0.05s Loss:0.00000 Correct:22/22 Acc:100.000%\n",
            "\n",
            "Epoch : 6\n",
            "Testing ...\n",
            "[progress:100.0%]time:0.05s Loss:0.00000 Correct:22/22 Acc:100.000%\n",
            "\n",
            "Epoch : 7\n",
            "Testing ...\n",
            "[progress:100.0%]time:0.05s Loss:0.00000 Correct:22/22 Acc:100.000%\n",
            "\n",
            "Epoch : 8\n",
            "Testing ...\n",
            "[progress:100.0%]time:0.05s Loss:0.00000 Correct:22/22 Acc:100.000%\n",
            "\n",
            "Epoch : 9\n",
            "Testing ...\n",
            "[progress:100.0%]time:0.05s Loss:0.00000 Correct:22/22 Acc:100.000%\n",
            "\n",
            "Epoch : 10\n",
            "Testing ...\n",
            "[progress:100.0%]time:0.06s Loss:0.00000 Correct:22/22 Acc:100.000%\n",
            "\n",
            "Epoch : 11\n",
            "Testing ...\n",
            "[progress:100.0%]time:0.07s Loss:0.00000 Correct:22/22 Acc:100.000%\n",
            "\n",
            "Epoch : 12\n",
            "Testing ...\n",
            "[progress:100.0%]time:0.05s Loss:0.00000 Correct:22/22 Acc:100.000%\n",
            "\n",
            "Epoch : 13\n",
            "Testing ...\n",
            "[progress:100.0%]time:0.05s Loss:0.00000 Correct:22/22 Acc:100.000%\n",
            "\n",
            "Epoch : 14\n",
            "Testing ...\n",
            "[progress:100.0%]time:0.05s Loss:0.00000 Correct:22/22 Acc:100.000%\n",
            "\n",
            "Epoch : 15\n",
            "Testing ...\n",
            "[progress:100.0%]time:0.06s Loss:0.00000 Correct:22/22 Acc:100.000%\n",
            "\n",
            "Epoch : 16\n",
            "Testing ...\n",
            "[progress:100.0%]time:0.05s Loss:0.00000 Correct:22/22 Acc:100.000%\n",
            "\n",
            "Epoch : 17\n",
            "Testing ...\n",
            "[progress:100.0%]time:0.05s Loss:0.00000 Correct:22/22 Acc:100.000%\n",
            "\n",
            "Epoch : 18\n",
            "Testing ...\n",
            "[progress:100.0%]time:0.05s Loss:0.00000 Correct:22/22 Acc:100.000%\n",
            "\n",
            "Epoch : 19\n",
            "Testing ...\n",
            "[progress:100.0%]time:0.06s Loss:0.00000 Correct:22/22 Acc:100.000%\n",
            "\n",
            "Epoch : 20\n",
            "Testing ...\n",
            "[progress:100.0%]time:0.06s Loss:0.00000 Correct:22/22 Acc:100.000%\n",
            "Learning rate adjusted to 0.010000000000000002\n",
            "\n",
            "Epoch : 21\n",
            "Testing ...\n",
            "[progress:100.0%]time:0.05s Loss:0.00000 Correct:22/22 Acc:100.000%\n",
            "\n",
            "Epoch : 22\n",
            "Testing ...\n",
            "[progress:100.0%]time:0.05s Loss:0.00000 Correct:22/22 Acc:100.000%\n",
            "\n",
            "Epoch : 23\n",
            "Testing ...\n",
            "[progress:100.0%]time:0.06s Loss:0.00000 Correct:22/22 Acc:100.000%\n",
            "\n",
            "Epoch : 24\n",
            "Testing ...\n",
            "[progress:100.0%]time:0.05s Loss:0.00000 Correct:22/22 Acc:100.000%\n",
            "\n",
            "Epoch : 25\n",
            "Testing ...\n",
            "[progress:100.0%]time:0.05s Loss:0.00000 Correct:22/22 Acc:100.000%\n",
            "\n",
            "Epoch : 26\n",
            "Testing ...\n",
            "[progress:100.0%]time:0.06s Loss:0.00000 Correct:22/22 Acc:100.000%\n",
            "\n",
            "Epoch : 27\n",
            "Testing ...\n",
            "[progress:100.0%]time:0.06s Loss:0.00000 Correct:22/22 Acc:100.000%\n",
            "\n",
            "Epoch : 28\n",
            "Testing ...\n",
            "[progress:100.0%]time:0.06s Loss:0.00000 Correct:22/22 Acc:100.000%\n",
            "\n",
            "Epoch : 29\n",
            "Testing ...\n",
            "[progress:100.0%]time:0.06s Loss:0.00000 Correct:22/22 Acc:100.000%\n",
            "\n",
            "Epoch : 30\n",
            "Testing ...\n",
            "[progress:100.0%]time:0.05s Loss:0.00000 Correct:22/22 Acc:100.000%\n",
            "\n",
            "Epoch : 31\n",
            "Testing ...\n",
            "[progress:100.0%]time:0.05s Loss:0.00000 Correct:22/22 Acc:100.000%\n",
            "\n",
            "Epoch : 32\n",
            "Testing ...\n",
            "[progress:100.0%]time:0.07s Loss:0.00000 Correct:22/22 Acc:100.000%\n",
            "\n",
            "Epoch : 33\n",
            "Testing ...\n",
            "[progress:100.0%]time:0.06s Loss:0.00000 Correct:22/22 Acc:100.000%\n",
            "\n",
            "Epoch : 34\n",
            "Testing ...\n",
            "[progress:100.0%]time:0.07s Loss:0.00000 Correct:22/22 Acc:100.000%\n",
            "\n",
            "Epoch : 35\n",
            "Testing ...\n",
            "[progress:100.0%]time:0.05s Loss:0.00000 Correct:22/22 Acc:100.000%\n",
            "\n",
            "Epoch : 36\n",
            "Testing ...\n",
            "[progress:100.0%]time:0.05s Loss:0.00000 Correct:22/22 Acc:100.000%\n",
            "\n",
            "Epoch : 37\n",
            "Testing ...\n",
            "[progress:100.0%]time:0.05s Loss:0.00000 Correct:22/22 Acc:100.000%\n",
            "\n",
            "Epoch : 38\n",
            "Testing ...\n",
            "[progress:100.0%]time:0.05s Loss:0.00000 Correct:22/22 Acc:100.000%\n",
            "\n",
            "Epoch : 39\n",
            "Testing ...\n",
            "[progress:100.0%]time:0.06s Loss:0.00000 Correct:22/22 Acc:100.000%\n",
            "\n",
            "Epoch : 40\n",
            "Testing ...\n",
            "[progress:100.0%]time:0.06s Loss:0.00000 Correct:22/22 Acc:100.000%\n",
            "Learning rate adjusted to 0.0010000000000000002\n"
          ]
        }
      ]
    },
    {
      "cell_type": "code",
      "source": [],
      "metadata": {
        "id": "hzF4Ct1e_HqL"
      },
      "execution_count": null,
      "outputs": []
    }
  ]
}